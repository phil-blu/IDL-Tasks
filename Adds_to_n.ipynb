{
  "nbformat": 4,
  "nbformat_minor": 0,
  "metadata": {
    "colab": {
      "name": "Task1.ipynb",
      "provenance": []
    },
    "kernelspec": {
      "name": "python3",
      "display_name": "Python 3"
    }
  },
  "cells": [
    {
      "cell_type": "markdown",
      "metadata": {
        "id": "4JzTpqaycO9o"
      },
      "source": [
        "## **Code Implementations**"
      ]
    },
    {
      "cell_type": "markdown",
      "metadata": {
        "id": "O2uCXOydf9Ws"
      },
      "source": [
        "Question 1: from the array, [10,1,-1,5,7,1,15,8,11], find two numbers that add up to 10 without repeating. "
      ]
    },
    {
      "cell_type": "code",
      "metadata": {
        "colab": {
          "base_uri": "https://localhost:8080/"
        },
        "id": "1YZys5STgRD9",
        "outputId": "d4448b8f-2491-4622-df41-ed40ee8ab511"
      },
      "source": [
        "#Method 1: By sorting the numbers first, we limit our number of possibilities.\r\n",
        "#Cost implication: O(t) = n^2 and O(s)=1\r\n",
        "\r\n",
        "L = [10,1,-1,5,7,1,15,8,11]\r\n",
        "L.sort()\r\n",
        "\r\n",
        "j = len(L) -1\r\n",
        "for i in L:\r\n",
        "  while j>=0:\r\n",
        "    if i + L[j] > 10:\r\n",
        "      print(\"\")\r\n",
        "    elif i + L[j] < 10:\r\n",
        "      print(\"\")\r\n",
        "    elif i + L[j] == 10:\r\n",
        "      print(i,\"and\",L[j])\r\n",
        "    else:\r\n",
        "      print(\"None\")\r\n",
        "    j-=1"
      ],
      "execution_count": null,
      "outputs": [
        {
          "output_type": "stream",
          "text": [
            "\n",
            "-1 and 11\n",
            "\n",
            "\n",
            "\n",
            "\n",
            "\n",
            "\n",
            "\n"
          ],
          "name": "stdout"
        }
      ]
    },
    {
      "cell_type": "code",
      "metadata": {
        "colab": {
          "base_uri": "https://localhost:8080/"
        },
        "id": "tmlb72iihA6z",
        "outputId": "70921283-906d-4825-a027-42170f5de009"
      },
      "source": [
        "# Method 2: By using two for loops, we are sure all possibilies have been tested.\r\n",
        "#Cost implication: O(t) = n^2 and O(s)=1\r\n",
        "K = [10,1,-1,5,7,1,15,8,11]\r\n",
        "for i in K:\r\n",
        "  for j in K:\r\n",
        "    j+=1\r\n",
        "    if i + j > 10:\r\n",
        "      continue\r\n",
        "    elif i + j < 10:\r\n",
        "      continue\r\n",
        "    elif i + j == 10:\r\n",
        "      print(i,\"and\",j)\r\n",
        "    else:\r\n",
        "      print(\"None\")"
      ],
      "execution_count": null,
      "outputs": [
        {
          "output_type": "stream",
          "text": [
            "10 and 0\n",
            "1 and 9\n",
            "-1 and 11\n",
            "1 and 9\n",
            "8 and 2\n",
            "8 and 2\n"
          ],
          "name": "stdout"
        }
      ]
    },
    {
      "cell_type": "markdown",
      "metadata": {
        "id": "Ql9IbJ1tearV"
      },
      "source": [
        "Question 3: Return **True** or **False** if the subsequence, B, exists in the array, A.\r\n",
        "A = [1,2,3,8,9,18,10,-1,0]\r\n",
        "B = [2,8,9,10]"
      ]
    },
    {
      "cell_type": "code",
      "metadata": {
        "id": "LelBgWmeIcAP",
        "colab": {
          "base_uri": "https://localhost:8080/"
        },
        "outputId": "f17daefc-1dda-4409-8e95-6a30c4019f94"
      },
      "source": [
        "#Cost implication: O(t) = n^2 and O(s)=1\r\n",
        "\r\n",
        "A = [1,2,3,8,9,18,10,-1,0]\r\n",
        "B = [2,8,9,10]\r\n",
        "C = []\r\n",
        "for i in B:\r\n",
        "  for j in A:\r\n",
        "    if i == j:\r\n",
        "      C.append(j)\r\n",
        "    else:\r\n",
        "      continue\r\n",
        "C == B"
      ],
      "execution_count": null,
      "outputs": [
        {
          "output_type": "execute_result",
          "data": {
            "text/plain": [
              "True"
            ]
          },
          "metadata": {
            "tags": []
          },
          "execution_count": 1
        }
      ]
    },
    {
      "cell_type": "code",
      "metadata": {
        "id": "vpNDv3biJD5W"
      },
      "source": [
        ""
      ],
      "execution_count": null,
      "outputs": []
    },
    {
      "cell_type": "code",
      "metadata": {
        "id": "MlnkNuJsJJx2"
      },
      "source": [
        ""
      ],
      "execution_count": null,
      "outputs": []
    },
    {
      "cell_type": "code",
      "metadata": {
        "id": "7_qVTnkk3NQP"
      },
      "source": [
        ""
      ],
      "execution_count": null,
      "outputs": []
    }
  ]
}
