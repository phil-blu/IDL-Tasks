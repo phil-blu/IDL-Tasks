{
 "cells": [
  {
   "cell_type": "code",
   "execution_count": 22,
   "metadata": {},
   "outputs": [
    {
     "name": "stdout",
     "output_type": "stream",
     "text": [
      "0 1 1 2 1 3 2 5 3 8 5 13 8 21 13 34 21 55 34 89 55 144 89 233 "
     ]
    }
   ],
   "source": [
    "n1, n2 = 0, 1\n",
    "for i in range(12):\n",
    "    print(n1)\n",
    "    fib = n1+n2\n",
    "    n1 = n2\n",
    "    n2 = fib\n",
    "    print(fib, end = \" \")\n",
    "    "
   ]
  },
  {
   "cell_type": "code",
   "execution_count": null,
   "metadata": {},
   "outputs": [],
   "source": [
    "# Program to display the Fibonacci sequence up to n-th term\n",
    "\n",
    "nterms = int(input(\"How many terms? \"))\n",
    "\n",
    "# first two terms\n",
    "n1, n2 = 0, 1\n",
    "count = 0\n",
    "\n",
    "# check if the number of terms is valid\n",
    "if nterms <= 0:\n",
    "   print(\"Please enter a positive integer\")\n",
    "elif nterms == 1:\n",
    "   print(\"Fibonacci sequence upto\",nterms,\":\")\n",
    "   print(n1)\n",
    "else:\n",
    "   print(\"Fibonacci sequence:\")\n",
    "   while count < nterms:\n",
    "       print(n1, end=\" \")\n",
    "       nth = n1 + n2\n",
    "       # update values\n",
    "       n1 = n2\n",
    "       n2 = nth\n",
    "       count += 1"
   ]
  },
  {
   "cell_type": "code",
   "execution_count": 11,
   "metadata": {},
   "outputs": [
    {
     "name": "stdout",
     "output_type": "stream",
     "text": [
      "Number of terms in the sequence: 11\n",
      "The terms in a  11  fibonacci sequence are: \n",
      "0 1 1 2 3 5 8 13 21 34 55 "
     ]
    }
   ],
   "source": [
    "## THIS ALGORITHIM HELPS THE FUNCTION USER PRE\n",
    "\n",
    "n = int(input(\"Number of terms in the sequence: \"))\n",
    "exceptions = [0,1]\n",
    "\n",
    "if n<0:\n",
    "    print(\"Wrong input\")\n",
    "    \n",
    "elif n <= len(exceptions):\n",
    "    print(len(n)-1)\n",
    "    \n",
    "else:\n",
    "    print(\"The terms in a \",n,\" fibonacci sequence are: \")\n",
    "    n1,n2 = 0,1\n",
    "    for i in range(n):\n",
    "        print(n1, end=\" \")\n",
    "        nth = n1+n2\n",
    "        n1 = n2\n",
    "        n2 =nth\n",
    "        "
   ]
  },
  {
   "cell_type": "code",
   "execution_count": 9,
   "metadata": {},
   "outputs": [
    {
     "data": {
      "text/plain": [
       "55"
      ]
     },
     "execution_count": 9,
     "metadata": {},
     "output_type": "execute_result"
    }
   ],
   "source": [
    "def nth_fibonacci_term(n):\n",
    "    exceptions = [0,1] \n",
    "    if n<0: \n",
    "        return(\"Wrong input\") \n",
    "    \n",
    "    elif n<=len(exceptions): \n",
    "        return exceptions[n-1] \n",
    "    else: \n",
    "        i=0\n",
    "        n1,n2 = 0,1\n",
    "\n",
    "        while i<=n-1:\n",
    "            #print(n1, end=\" \")\n",
    "            nth = n1+n2\n",
    "            n1=n2\n",
    "            n2=nth\n",
    "\n",
    "            #print(n1, end=\",\")\n",
    "            i+=1\n",
    "            if i == n-1:\n",
    "                return(n1)\n",
    "                break\n",
    "                \n",
    "# Testing...\n",
    "nth_fibonacci_term(11)\n",
    "    "
   ]
  }
 ],
 "metadata": {
  "kernelspec": {
   "display_name": "Python 3",
   "language": "python",
   "name": "python3"
  },
  "language_info": {
   "codemirror_mode": {
    "name": "ipython",
    "version": 3
   },
   "file_extension": ".py",
   "mimetype": "text/x-python",
   "name": "python",
   "nbconvert_exporter": "python",
   "pygments_lexer": "ipython3",
   "version": "3.7.6"
  }
 },
 "nbformat": 4,
 "nbformat_minor": 4
}
