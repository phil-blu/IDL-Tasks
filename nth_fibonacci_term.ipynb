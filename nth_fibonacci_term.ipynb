{
 "cells": [
  {
   "cell_type": "markdown",
   "metadata": {},
   "source": [
    "Write a function that takes in an integer n and returns the nth Fibonacci number. \n",
    "\n",
    "The Fibonacci sequence is defined as follows: the first number of the sequence is 0, the second number is 1, and the nth number is the sum of the (n-1)th and (n-2)th numbers.\n",
    "\n",
    "n = 11"
   ]
  },
  {
   "cell_type": "code",
   "execution_count": 1,
   "metadata": {},
   "outputs": [
    {
     "name": "stdout",
     "output_type": "stream",
     "text": [
      "Number of terms in the sequence: 11\n",
      "The terms in 11 fibonacci sequence are: \n",
      "0 1 1 2 3 5 8 13 21 34 55 "
     ]
    }
   ],
   "source": [
    "## THIS ALGORITHIM IS JUST HERE TO PREDETERMINE WHAT THE FUNCTION BELOW SHOULD RETURN\n",
    "\n",
    "n = int(input(\"Number of terms in the sequence: \"))\n",
    "exceptions = [0,1]\n",
    "\n",
    "if n<0:\n",
    "    print(\"Wrong input\")\n",
    "    \n",
    "elif n <= len(exceptions):\n",
    "    print(len(n)-1)\n",
    "    \n",
    "else:\n",
    "    print(\"The terms in\",n,\"fibonacci sequence are: \")\n",
    "    n1,n2 = 0,1\n",
    "    for i in range(n):\n",
    "        print(n1, end=\" \")\n",
    "        nth = n1+n2\n",
    "        n1 = n2\n",
    "        n2 =nth\n",
    "        "
   ]
  },
  {
   "cell_type": "code",
   "execution_count": 2,
   "metadata": {},
   "outputs": [
    {
     "data": {
      "text/plain": [
       "55"
      ]
     },
     "execution_count": 2,
     "metadata": {},
     "output_type": "execute_result"
    }
   ],
   "source": [
    "def nth_fibonacci_term(n):\n",
    "    exceptions = [0,1] \n",
    "    if n<0: \n",
    "        return(\"Wrong input\") \n",
    "    \n",
    "    elif n<=len(exceptions): \n",
    "        return exceptions[n-1] \n",
    "    else: \n",
    "        i=0\n",
    "        n1,n2 = 0,1\n",
    "\n",
    "        while i<=n-1:\n",
    "            #print(n1, end=\" \")\n",
    "            nth = n1+n2\n",
    "            n1=n2\n",
    "            n2=nth\n",
    "\n",
    "            #print(n1, end=\",\")\n",
    "            i+=1\n",
    "            if i == n-1:\n",
    "                return(n1)\n",
    "                break\n",
    "                \n",
    "# Testing...\n",
    "nth_fibonacci_term(11)\n",
    "    "
   ]
  },
  {
   "cell_type": "markdown",
   "metadata": {},
   "source": [
    "Cost implication:\n",
    "* O(n) for time\n",
    "* O(1) for space"
   ]
  },
  {
   "cell_type": "markdown",
   "metadata": {},
   "source": [
    "Reference:\n",
    "* [programiz](https://www.programiz.com/python-programming/examples/fibonacci-sequence)\n",
    "* [geeksforgeeks](https://www.geeksforgeeks.org/python-program-for-n-th-fibonacci-number/)"
   ]
  },
  {
   "cell_type": "code",
   "execution_count": null,
   "metadata": {},
   "outputs": [],
   "source": []
  }
 ],
 "metadata": {
  "kernelspec": {
   "display_name": "Python 3",
   "language": "python",
   "name": "python3"
  },
  "language_info": {
   "codemirror_mode": {
    "name": "ipython",
    "version": 3
   },
   "file_extension": ".py",
   "mimetype": "text/x-python",
   "name": "python",
   "nbconvert_exporter": "python",
   "pygments_lexer": "ipython3",
   "version": "3.7.6"
  }
 },
 "nbformat": 4,
 "nbformat_minor": 4
}
