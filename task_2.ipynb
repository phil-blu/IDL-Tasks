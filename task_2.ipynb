{
  "nbformat": 4,
  "nbformat_minor": 0,
  "metadata": {
    "colab": {
      "name": "task 2.ipynb",
      "provenance": [],
      "authorship_tag": "ABX9TyNzhCSdNCy+njx+b08JwVw5",
      "include_colab_link": true
    },
    "kernelspec": {
      "name": "python3",
      "display_name": "Python 3"
    }
  },
  "cells": [
    {
      "cell_type": "markdown",
      "metadata": {
        "id": "view-in-github",
        "colab_type": "text"
      },
      "source": [
        "<a href=\"https://colab.research.google.com/github/phil-blu/IDL-Tasks/blob/branch2/task_2.ipynb\" target=\"_parent\"><img src=\"https://colab.research.google.com/assets/colab-badge.svg\" alt=\"Open In Colab\"/></a>"
      ]
    },
    {
      "cell_type": "markdown",
      "metadata": {
        "id": "Dh3_iWlMiR9v"
      },
      "source": [
        "Question 1:\n",
        "\n",
        "\n",
        "*   Write a function that takes in an array of integers and returns a boolean representing whether the array is monotonic. \n",
        "An array is said to be monotonic if its elements, from left to right, entirely non-increasing or entirely non-decreasing. Empty arrays and arrays of one element are monotonic. \n",
        "*    Reference:\n",
        "[tutorialspoint](https://www.tutorialspoint.com/python-program-to-check-if-the-given-array-is-monotonic)\n"
      ]
    },
    {
      "cell_type": "code",
      "metadata": {
        "colab": {
          "base_uri": "https://localhost:8080/"
        },
        "id": "GJ4fdYoAhM9w",
        "outputId": "bf4b46d0-ebc1-43cf-8d19-6e4c133a77fd"
      },
      "source": [
        "def monotonic(arr):\n",
        "  return (all(A[i]<=A[i+1] for i in range(len(A)-1))  or all(A[i]>=A[i+1] for i in range(len(A)-1)))\n",
        "\n",
        "A = [1,2,3,4,9,8]\n",
        "print(monotonic(A))"
      ],
      "execution_count": null,
      "outputs": [
        {
          "output_type": "stream",
          "text": [
            "False\n"
          ],
          "name": "stdout"
        }
      ]
    },
    {
      "cell_type": "code",
      "metadata": {
        "id": "Z1M0FD_4iG9U"
      },
      "source": [
        ""
      ],
      "execution_count": null,
      "outputs": []
    },
    {
      "cell_type": "markdown",
      "metadata": {
        "id": "SmR0fPjZhQX2"
      },
      "source": [
        "Question 2:\n",
        "\n",
        "*   Write a function that takes in an n x m two-dimensional array (that can be square-shaped when n==m) and returns a one-dimensional array of all the array's elements in spiral order.\n",
        "\n",
        "Spiral order starts at the top left corner of the two-dimensional array, goes to the right, and proceeds in a spiral pattern all the way until every element has been visited.\n",
        "\n",
        "*    Reference:\n",
        "[coderbtye](https://coderbyte.com/algorithm/print-matrix-spiral-order)\n",
        "*    Further reading:\n",
        "[python list pop()](https://www.geeksforgeeks.org/python-list-pop/#:~:text=pop()]
    },
    {
      "cell_type": "code",
      "metadata": {
        "colab": {
          "base_uri": "https://localhost:8080/"
        },
        "id": "xyK7mE68EDxf",
        "outputId": "3d838435-e9d8-48f2-c957-0a6e60ec14eb"
      },
      "source": [
        "matrix1 = [[1, 2, 3],\r\n",
        "          [4, 5, 6],\r\n",
        "           [7, 8, 9]]\r\n",
        "\r\n",
        "def spiral_matrix(matrix):\r\n",
        "  one_dim = []\r\n",
        "  while matrix:\r\n",
        "    for horizontal in matrix.pop(0):\r\n",
        "      one_dim.append(horizontal)\r\n",
        "    for vertical in matrix:\r\n",
        "      one_dim.append(vertical.pop())\r\n",
        "      \r\n",
        "    \r\n",
        "    if matrix:\r\n",
        "      for horizontal in matrix.pop()[::-1]:\r\n",
        "        one_dim.append(horizontal)\r\n",
        "      for vertical in matrix[::-1]:\r\n",
        "        one_dim.append(vertical.pop(0))\r\n",
        "  return(one_dim)\r\n",
        "\r\n",
        "spiral_matrix(matrix1)"
      ],
      "execution_count": 105,
      "outputs": [
        {
          "output_type": "execute_result",
          "data": {
            "text/plain": [
              "[1, 2, 3, 6, 9, 8, 7, 4, 5]"
            ]
          },
          "metadata": {
            "tags": []
          },
          "execution_count": 105
        }
      ]
    },
    {
      "cell_type": "code",
      "metadata": {
        "id": "kPj0Szh-Qnyv"
      },
      "source": [
        ""
      ],
      "execution_count": null,
      "outputs": []
    }
  ]
}
