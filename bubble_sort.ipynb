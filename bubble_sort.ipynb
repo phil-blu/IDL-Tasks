{
 "cells": [
  {
   "cell_type": "markdown",
   "metadata": {},
   "source": [
    "Write a function that takes in an array of integers and returns a sorted version of that array. Use the Bubble Sort algorithm to sort the array. \n",
    "\n",
    "array = [8, 5, 2, 9, 5, 6, 3] "
   ]
  },
  {
   "cell_type": "code",
   "execution_count": 7,
   "metadata": {},
   "outputs": [
    {
     "data": {
      "text/plain": [
       "[2, 3, 5, 5, 6, 8, 9]"
      ]
     },
     "execution_count": 7,
     "metadata": {},
     "output_type": "execute_result"
    }
   ],
   "source": [
    "array = [8, 5, 2, 9, 5, 6, 3] \n",
    "\n",
    "def bubble_sort(an_array):\n",
    "    for count in range(len(an_array)-1):\n",
    "        for item in range(len(an_array)-1):\n",
    "            if an_array[item] > an_array[item+1]:\n",
    "                  an_array[item], an_array[item+1] = an_array[item+1], an_array[item]\n",
    "    return (an_array)\n",
    "\n",
    "bubble_sort(array)"
   ]
  },
  {
   "cell_type": "markdown",
   "metadata": {},
   "source": [
    "Cost implication:\n",
    "*   O(n^2) for time\n",
    "*   O(1) for space"
   ]
  },
  {
   "cell_type": "code",
   "execution_count": 8,
   "metadata": {},
   "outputs": [
    {
     "data": {
      "text/plain": [
       "[2, 3, 5, 5, 6, 8, 9]"
      ]
     },
     "execution_count": 8,
     "metadata": {},
     "output_type": "execute_result"
    }
   ],
   "source": [
    "array = [8, 5, 2, 9, 5, 6, 3]\n",
    "\n",
    "def bubble_sort_improved(an_array):\n",
    "  swapped= True\n",
    "\n",
    "  while(swapped):\n",
    "    swapped = False #To avoid an infinite loop\n",
    "\n",
    "    for item in range(len(an_array)-1):\n",
    "      if an_array[item] > an_array[item+1]: \n",
    "        an_array[item], an_array[item+1] = an_array[item+1], an_array[item]\n",
    "        swapped = True\n",
    "  return (an_array)\n",
    "\n",
    "bubble_sort_improved(array)"
   ]
  },
  {
   "cell_type": "markdown",
   "metadata": {},
   "source": [
    "Cost implication:\n",
    "*   O(nlogn) for time\n",
    "*   O(1) for space"
   ]
  },
  {
   "cell_type": "code",
   "execution_count": null,
   "metadata": {},
   "outputs": [],
   "source": []
  }
 ],
 "metadata": {
  "kernelspec": {
   "display_name": "Python 3",
   "language": "python",
   "name": "python3"
  },
  "language_info": {
   "codemirror_mode": {
    "name": "ipython",
    "version": 3
   },
   "file_extension": ".py",
   "mimetype": "text/x-python",
   "name": "python",
   "nbconvert_exporter": "python",
   "pygments_lexer": "ipython3",
   "version": "3.7.6"
  }
 },
 "nbformat": 4,
 "nbformat_minor": 4
}
