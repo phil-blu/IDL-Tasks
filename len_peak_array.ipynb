{
  "nbformat": 4,
  "nbformat_minor": 0,
  "metadata": {
    "colab": {
      "name": "len_peak_array.ipynb",
      "provenance": [],
      "authorship_tag": "ABX9TyN8IdESWVwSvaOY6Uq2YywD",
      "include_colab_link": true
    },
    "kernelspec": {
      "name": "python3",
      "display_name": "Python 3"
    }
  },
  "cells": [
    {
      "cell_type": "markdown",
      "metadata": {
        "id": "view-in-github",
        "colab_type": "text"
      },
      "source": [
        "<a href=\"https://colab.research.google.com/github/phil-blu/IDL-Tasks/blob/branch2/len_peak_array.ipynb\" target=\"_parent\"><img src=\"https://colab.research.google.com/assets/colab-badge.svg\" alt=\"Open In Colab\"/></a>"
      ]
    },
    {
      "cell_type": "markdown",
      "metadata": {
        "id": "nfN_SoJrLQEQ"
      },
      "source": [
        "Write a function that takes in an array of integers and returns the the length of the longest peak in the array.\r\n",
        "\r\n",
        "NB: A peak is defined as adjacent integers in the array that are strictly  increasing until they reach a tip (the highest value in the peak), at which point they become strictly decreasing. At least three integers are required to form a peak."
      ]
    },
    {
      "cell_type": "code",
      "metadata": {
        "colab": {
          "base_uri": "https://localhost:8080/"
        },
        "id": "PWEP3sjBLmqA",
        "outputId": "3dfe0078-56c9-4f5e-a182-a721d8ca2d87"
      },
      "source": [
        "array =[1, 2, 3, 3, 4, 0, 10, 6, 5, -1, -3, 2, 3]\r\n",
        "\r\n",
        "def len_peak_array(A):\r\n",
        "  increase=[]\r\n",
        "  decrease=[]\r\n",
        "  i=0\r\n",
        "\r\n",
        "  #increasing sub-array\r\n",
        "  while i<=(len(A)-1):\r\n",
        "    if A[i] > A[i+1]:\r\n",
        "      break\r\n",
        "    if A[i] <= A[i+1]:\r\n",
        "      increase.append(A[i])\r\n",
        "    i+=1\r\n",
        "  increase.append(A[i])\r\n",
        "\r\n",
        "  #decreasing sub-array\r\n",
        "  while i<=(len(A)-1):\r\n",
        "    if A[i] < A[i+1]:\r\n",
        "      break\r\n",
        "    if A[i] >= A[i+1]:\r\n",
        "      decrease.append(A[i])\r\n",
        "    i+=1\r\n",
        "  decrease.append(A[i])\r\n",
        "\r\n",
        "  \r\n",
        "  if len(increase)<3 and len(decrease)<3:\r\n",
        "    return (None)\r\n",
        "  if len(decrease) > len(increase):\r\n",
        "    return (len(decrease))\r\n",
        "  elif len(increase) > len(decrease):\r\n",
        "    return (len(increase))\r\n",
        "\r\n",
        "len_peak_array(array)"
      ],
      "execution_count": 3,
      "outputs": [
        {
          "output_type": "execute_result",
          "data": {
            "text/plain": [
              "5"
            ]
          },
          "metadata": {
            "tags": []
          },
          "execution_count": 3
        }
      ]
    },
    {
      "cell_type": "markdown",
      "metadata": {
        "id": "vvUSjR3Ar8FQ"
      },
      "source": [
        "The cost implication of this algorithim is:\r\n",
        "*   O(nlogn) for processing time\r\n",
        "*   O(logn) for memory space."
      ]
    },
    {
      "cell_type": "code",
      "metadata": {
        "id": "OhD7jFeET1OJ"
      },
      "source": [
        ""
      ],
      "execution_count": null,
      "outputs": []
    }
  ]
}