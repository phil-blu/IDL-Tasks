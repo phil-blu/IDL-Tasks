{
  "nbformat": 4,
  "nbformat_minor": 0,
  "metadata": {
    "colab": {
      "name": "first_duplicate.ipynb",
      "provenance": [],
      "authorship_tag": "ABX9TyNG79kauMkeLDkSBH9XXhAq",
      "include_colab_link": true
    },
    "kernelspec": {
      "name": "python3",
      "display_name": "Python 3"
    }
  },
  "cells": [
    {
      "cell_type": "markdown",
      "metadata": {
        "id": "view-in-github",
        "colab_type": "text"
      },
      "source": [
        "<a href=\"https://colab.research.google.com/github/phil-blu/IDL-Tasks/blob/branch2/first_duplicate.ipynb\" target=\"_parent\"><img src=\"https://colab.research.google.com/assets/colab-badge.svg\" alt=\"Open In Colab\"/></a>"
      ]
    },
    {
      "cell_type": "code",
      "metadata": {
        "id": "cEkIEd-Il493"
      },
      "source": [
        "array = [5,1,4,2]\r\n",
        "i = 0\r\n",
        "prod = 1\r\n",
        "answer = []\r\n",
        "while i <= len(array)-1:\r\n",
        "  prod = prod * array[i]\r\n",
        "  print(prod)\r\n",
        "  i+=1\r\n",
        "  print(prod)\r\n",
        "  while i <= len(array)-1:\r\n",
        "    print(prod)\r\n",
        "    ans = prod/array[i]\r\n",
        "    answer.append(ans)\r\n",
        "    print(prod)\r\n",
        "    i+=1\r\n",
        "answer"
      ],
      "execution_count": null,
      "outputs": []
    },
    {
      "cell_type": "markdown",
      "metadata": {
        "id": "u3J5cXnRqtCC"
      },
      "source": [
        "Given an array of integers between 1 and n, inclusive, where n is the length of the array, write a function that returns the first integer that appears more than once (when the array is read from left to right).\r\n",
        "\r\n",
        "In other words, out of all the integers that might occur more than once in the input array, your function should return the one whose first duplicate value has the minimum index.\r\n",
        "\r\n",
        "If no integer appears more than once, your function should return -1.\r\n",
        "You are allowed to mutate the input array.\r\n",
        "\r\n",
        "array = [2, 1, 5, 3, 6, 5, 4]"
      ]
    },
    {
      "cell_type": "code",
      "metadata": {
        "colab": {
          "base_uri": "https://localhost:8080/"
        },
        "id": "DElt-wvfxImq",
        "outputId": "e487dc02-75e7-4459-a1fc-b1167f767d39"
      },
      "source": [
        "## SOLUTION 1:\r\n",
        "\r\n",
        "array = [2, 1, 5, 3, 6, 5, 4]\r\n",
        "\r\n",
        "\r\n",
        "def first_duplicate(an_array):\r\n",
        "  #to check if there exists a duplicate within the array to conserve computation resources\r\n",
        "  set_array = set(an_array)\r\n",
        "  if len(an_array) > len(set_array):\r\n",
        "    new_array = []\r\n",
        "    first_dup = []\r\n",
        "    for item in an_array:\r\n",
        "      if item not in new_array:\r\n",
        "        new_array.append(item)\r\n",
        "      else:\r\n",
        "        first_dup.append(item)\r\n",
        "        break\r\n",
        "    return (first_dup[0])\r\n",
        "      \r\n",
        "  else:\r\n",
        "    return(-1)\r\n",
        "    \r\n",
        "first_duplicate(array)"
      ],
      "execution_count": 5,
      "outputs": [
        {
          "output_type": "execute_result",
          "data": {
            "text/plain": [
              "5"
            ]
          },
          "metadata": {
            "tags": []
          },
          "execution_count": 5
        }
      ]
    },
    {
      "cell_type": "markdown",
      "metadata": {
        "id": "D5XuRMESTqgh"
      },
      "source": [
        "Cost implication:\r\n",
        "*    O(nlogn) = time\r\n",
        "*    O(nlogn) = space\r\n",
        "\r\n",
        "\r\n",
        "[SOLUTION 1 reference](https://www.educative.io/edpresso/how-to-find-duplicates-from-a-list-in-python)\r\n",
        "\r\n",
        "\r\n"
      ]
    },
    {
      "cell_type": "code",
      "metadata": {
        "colab": {
          "base_uri": "https://localhost:8080/"
        },
        "id": "CgwiIbykcTdI",
        "outputId": "a4f09979-289e-4ecc-9f73-06e2fc108cf4"
      },
      "source": [
        "##  SOLUTION 2:\r\n",
        "\r\n",
        "array = [2, 1, 5, 3, 6, 5, 4]\r\n",
        "\r\n",
        "def first_dup(an_array):\r\n",
        "  set_array = set (an_array)\r\n",
        "  if len(an_array) > len(set_array):\r\n",
        "    an_array.sort()\r\n",
        "    #print(an_array)\r\n",
        "    first_item = an_array[0]\r\n",
        "    second_item = an_array[0]\r\n",
        "\r\n",
        "    while an_array:\r\n",
        "      first_item = an_array[first_item]\r\n",
        "      second_item = an_array[an_array[second_item]]\r\n",
        "      #print(first_item, second_item)\r\n",
        "\r\n",
        "      if first_item == second_item:\r\n",
        "        return (first_item)\r\n",
        "        break\r\n",
        "  else:\r\n",
        "    return(-1)\r\n",
        "\r\n",
        "first_dup(array)\r\n",
        "\r\n",
        "  "
      ],
      "execution_count": 3,
      "outputs": [
        {
          "output_type": "execute_result",
          "data": {
            "text/plain": [
              "5"
            ]
          },
          "metadata": {
            "tags": []
          },
          "execution_count": 3
        }
      ]
    },
    {
      "cell_type": "markdown",
      "metadata": {
        "id": "jbc2wExfeaO4"
      },
      "source": [
        "Cost implication for Solution 2:\r\n",
        "*  O(n^2logn) = time\r\n",
        "*  O(1) = space\r\n",
        "\r\n",
        "\r\n",
        "[SOLUTION 2 reference](https://www.tutorialspoint.com/find-the-duplicate-number-in-python)"
      ]
    }
  ]
}